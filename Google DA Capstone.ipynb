{
 "cells": [
  {
   "cell_type": "code",
   "execution_count": 1,
   "id": "e7e180bf",
   "metadata": {},
   "outputs": [],
   "source": [
    "import csv\n",
    "import numpy as np\n",
    "import matplotlib.pyplot as plt\n",
    "import squarify\n",
    "import pandas as pd\n",
    "import seaborn as sns\n",
    "import datetime\n",
    "import ipywidgets as widgets"
   ]
  },
  {
   "cell_type": "code",
   "execution_count": 2,
   "id": "d0a1b579",
   "metadata": {},
   "outputs": [
    {
     "name": "stdout",
     "output_type": "stream",
     "text": [
      "Requirement already satisfied: folium in c:\\users\\hp\\anaconda3\\lib\\site-packages (0.14.0)\n",
      "Requirement already satisfied: numpy in c:\\users\\hp\\anaconda3\\lib\\site-packages (from folium) (1.21.5)\n",
      "Requirement already satisfied: jinja2>=2.9 in c:\\users\\hp\\anaconda3\\lib\\site-packages (from folium) (2.11.3)\n",
      "Requirement already satisfied: branca>=0.6.0 in c:\\users\\hp\\anaconda3\\lib\\site-packages (from folium) (0.6.0)\n",
      "Requirement already satisfied: requests in c:\\users\\hp\\anaconda3\\lib\\site-packages (from folium) (2.27.1)\n",
      "Requirement already satisfied: MarkupSafe>=0.23 in c:\\users\\hp\\anaconda3\\lib\\site-packages (from jinja2>=2.9->folium) (2.0.1)\n",
      "Requirement already satisfied: urllib3<1.27,>=1.21.1 in c:\\users\\hp\\anaconda3\\lib\\site-packages (from requests->folium) (1.26.9)\n",
      "Requirement already satisfied: idna<4,>=2.5 in c:\\users\\hp\\anaconda3\\lib\\site-packages (from requests->folium) (3.3)\n",
      "Requirement already satisfied: charset-normalizer~=2.0.0 in c:\\users\\hp\\anaconda3\\lib\\site-packages (from requests->folium) (2.0.4)\n",
      "Requirement already satisfied: certifi>=2017.4.17 in c:\\users\\hp\\anaconda3\\lib\\site-packages (from requests->folium) (2022.12.7)\n",
      "Note: you may need to restart the kernel to use updated packages.\n"
     ]
    }
   ],
   "source": [
    "pip install folium\n"
   ]
  },
  {
   "cell_type": "code",
   "execution_count": 3,
   "id": "0a858424",
   "metadata": {},
   "outputs": [],
   "source": [
    "import folium\n",
    "from folium.plugins import HeatMap"
   ]
  },
  {
   "cell_type": "markdown",
   "id": "601712dc",
   "metadata": {},
   "source": [
    "\n",
    "## About the company ##\n",
    "In 2016, Cyclistic launched a successful bike-share offering. Since then, the program has grown to a fleet of 5,824 bicycles that are geotracked and locked into a network of 692 stations across Chicago. The bikes can be unlocked from one station and returned to any other station in the system anytime.\n",
    "\n",
    "Until now, Cyclistic’s marketing strategy relied on building general awareness and appealing to broad consumer segments.\n",
    "One approach that helped make these things possible was the flexibility of its pricing plans: single-ride passes, full-day passes,and annual memberships. Customers who purchase single-ride or full-day passes are referred to as casual riders. Customers who purchase annual memberships are Cyclistic members. \n",
    "\n",
    "Cyclistic’s finance analysts have concluded that annual members are much more profitable than casual riders. Although the\n",
    "pricing flexibility helps Cyclistic attract more customers, Moreno believes that maximizing the number of annual members will be key to future growth. Rather than creating a marketing campaign that targets all-new customers, Moreno believes there is a very good chance to convert casual riders into members. She notes that casual riders are already aware of the Cyclistic program and have chosen Cyclistic for their mobility needs.  \n",
    "\n",
    "Moreno has set a clear goal: Design marketing strategies aimed at converting casual riders into annual members. In order to\n",
    "do that, however, the marketing analyst team needs to better understand how annual members and casual riders differ, why\n",
    "casual riders would buy a membership, and how digital media could affect their marketing tactics. Moreno and her team are\n",
    "interested in analyzing the Cyclistic historical bike trip data to identify trends. \n",
    "\n"
   ]
  },
  {
   "cell_type": "markdown",
   "id": "45c37623",
   "metadata": {},
   "source": [
    "# ASK\n"
   ]
  },
  {
   "cell_type": "markdown",
   "id": "b58d3cfc",
   "metadata": {},
   "source": [
    "### Three questions will guide the future marketing program:\n",
    "1. How do annual members and casual riders use Cyclistic bikes differently?\n",
    "2. Why would casual riders buy Cyclistic annual memberships?\n",
    "3. How can Cyclistic use digital media to influence casual riders to become members?"
   ]
  },
  {
   "cell_type": "markdown",
   "id": "a09ca4bd",
   "metadata": {},
   "source": [
    "### Scenario\n",
    "Cyclistic's marketing strategy has been to build general awareness and appeal to broad consumer segments, using pricing flexibility to attract both casual riders and annual members. However, the finance analysts have concluded that annual members are much more profitable than casual riders. As a result, Moreno, the company's marketing director, has set a goal of designing marketing strategies aimed at converting casual riders into annual members. To achieve this goal, the marketing analyst team needs to better understand the differences between annual members and casual riders, why casual riders would buy a membership, and how digital media could affect their marketing tactics. They plan to analyze the Cyclistic historical bike trip data to identify trends.\n",
    "### Stakeholders\n",
    " - Marketing Teams\n",
    " - Cyclistic excutive team\n",
    " \n",
    "### Deliverable\n",
    " - A deeper understanding of how Cyclistic's annual members and casual riders use the bikes differently\n",
    " - Clear and compelling visuals and data to support your insights\n",
    " - Three actionable recommendations to convert more casual riders into profitable annual members"
   ]
  },
  {
   "cell_type": "markdown",
   "id": "f3722fb4",
   "metadata": {},
   "source": [
    "# Prepare\n",
    "\n",
    "### Data Sources\n",
    "A total of 12 datasets have been made available for each month starting from Jan 2022 to Dec 2022. Each dataset captures the details of every ride logged by the customers of Cyclistic. This data that has been made publicly available has been scrubbed to omit rider's personal information.\n",
    "### Documentation, Cleaning and Preparation of data for analysis\n",
    "The combined size of all the 16 datasets is close to 200 MB. Data cleaning in spreadsheets will be time-consuming and slow compared to SQL or R or Python. I am choosing Python simply because I could do both data wrangling and analysis/ visualizations in the same platform. It is also an opportunity for me to learn Python better."
   ]
  },
  {
   "cell_type": "code",
   "execution_count": 4,
   "id": "11301da3",
   "metadata": {},
   "outputs": [],
   "source": [
    "trip1 = pd.read_csv(\"C:\\\\Users\\\\HP\\\\Downloads\\\\2022-divvy-tripdata\\\\202201-divvy-tripdata.csv\")\n"
   ]
  },
  {
   "cell_type": "code",
   "execution_count": 5,
   "id": "9b94c4dc",
   "metadata": {},
   "outputs": [
    {
     "name": "stdout",
     "output_type": "stream",
     "text": [
      "<class 'pandas.core.frame.DataFrame'>\n",
      "RangeIndex: 103770 entries, 0 to 103769\n",
      "Data columns (total 13 columns):\n",
      " #   Column              Non-Null Count   Dtype  \n",
      "---  ------              --------------   -----  \n",
      " 0   ride_id             103770 non-null  object \n",
      " 1   rideable_type       103770 non-null  object \n",
      " 2   started_at          103770 non-null  object \n",
      " 3   ended_at            103770 non-null  object \n",
      " 4   start_station_name  87510 non-null   object \n",
      " 5   start_station_id    87510 non-null   object \n",
      " 6   end_station_name    85843 non-null   object \n",
      " 7   end_station_id      85843 non-null   object \n",
      " 8   start_lat           103770 non-null  float64\n",
      " 9   start_lng           103770 non-null  float64\n",
      " 10  end_lat             103684 non-null  float64\n",
      " 11  end_lng             103684 non-null  float64\n",
      " 12  member_casual       103770 non-null  object \n",
      "dtypes: float64(4), object(9)\n",
      "memory usage: 10.3+ MB\n"
     ]
    }
   ],
   "source": [
    "\n",
    "trip1.info()"
   ]
  },
  {
   "cell_type": "code",
   "execution_count": 6,
   "id": "72e127a4",
   "metadata": {},
   "outputs": [
    {
     "name": "stdout",
     "output_type": "stream",
     "text": [
      "<class 'pandas.core.frame.DataFrame'>\n",
      "RangeIndex: 115609 entries, 0 to 115608\n",
      "Data columns (total 13 columns):\n",
      " #   Column              Non-Null Count   Dtype  \n",
      "---  ------              --------------   -----  \n",
      " 0   ride_id             115609 non-null  object \n",
      " 1   rideable_type       115609 non-null  object \n",
      " 2   started_at          115609 non-null  object \n",
      " 3   ended_at            115609 non-null  object \n",
      " 4   start_station_name  97029 non-null   object \n",
      " 5   start_station_id    97029 non-null   object \n",
      " 6   end_station_name    95254 non-null   object \n",
      " 7   end_station_id      95254 non-null   object \n",
      " 8   start_lat           115609 non-null  float64\n",
      " 9   start_lng           115609 non-null  float64\n",
      " 10  end_lat             115532 non-null  float64\n",
      " 11  end_lng             115532 non-null  float64\n",
      " 12  member_casual       115609 non-null  object \n",
      "dtypes: float64(4), object(9)\n",
      "memory usage: 11.5+ MB\n"
     ]
    }
   ],
   "source": [
    "trip2 = pd.read_csv(\"C:\\\\Users\\\\HP\\\\Downloads\\\\2022-divvy-tripdata\\\\202202-divvy-tripdata.csv\")\n",
    "trip2.info()"
   ]
  },
  {
   "cell_type": "code",
   "execution_count": 7,
   "id": "896fb310",
   "metadata": {},
   "outputs": [
    {
     "name": "stdout",
     "output_type": "stream",
     "text": [
      "<class 'pandas.core.frame.DataFrame'>\n",
      "RangeIndex: 284042 entries, 0 to 284041\n",
      "Data columns (total 13 columns):\n",
      " #   Column              Non-Null Count   Dtype  \n",
      "---  ------              --------------   -----  \n",
      " 0   ride_id             284042 non-null  object \n",
      " 1   rideable_type       284042 non-null  object \n",
      " 2   started_at          284042 non-null  object \n",
      " 3   ended_at            284042 non-null  object \n",
      " 4   start_station_name  236796 non-null  object \n",
      " 5   start_station_id    236796 non-null  object \n",
      " 6   end_station_name    232885 non-null  object \n",
      " 7   end_station_id      232885 non-null  object \n",
      " 8   start_lat           284042 non-null  float64\n",
      " 9   start_lng           284042 non-null  float64\n",
      " 10  end_lat             283776 non-null  float64\n",
      " 11  end_lng             283776 non-null  float64\n",
      " 12  member_casual       284042 non-null  object \n",
      "dtypes: float64(4), object(9)\n",
      "memory usage: 28.2+ MB\n"
     ]
    }
   ],
   "source": [
    "trip3 = pd.read_csv(\"C:\\\\Users\\\\HP\\\\Downloads\\\\2022-divvy-tripdata\\\\202203-divvy-tripdata.csv\")\n",
    "trip3.info()"
   ]
  },
  {
   "cell_type": "code",
   "execution_count": 8,
   "id": "7037123a",
   "metadata": {},
   "outputs": [
    {
     "name": "stdout",
     "output_type": "stream",
     "text": [
      "<class 'pandas.core.frame.DataFrame'>\n",
      "RangeIndex: 371249 entries, 0 to 371248\n",
      "Data columns (total 13 columns):\n",
      " #   Column              Non-Null Count   Dtype  \n",
      "---  ------              --------------   -----  \n",
      " 0   ride_id             371249 non-null  object \n",
      " 1   rideable_type       371249 non-null  object \n",
      " 2   started_at          371249 non-null  object \n",
      " 3   ended_at            371249 non-null  object \n",
      " 4   start_station_name  300362 non-null  object \n",
      " 5   start_station_id    300362 non-null  object \n",
      " 6   end_station_name    295961 non-null  object \n",
      " 7   end_station_id      295961 non-null  object \n",
      " 8   start_lat           371249 non-null  float64\n",
      " 9   start_lng           371249 non-null  float64\n",
      " 10  end_lat             370932 non-null  float64\n",
      " 11  end_lng             370932 non-null  float64\n",
      " 12  member_casual       371249 non-null  object \n",
      "dtypes: float64(4), object(9)\n",
      "memory usage: 36.8+ MB\n"
     ]
    }
   ],
   "source": [
    "trip4 = pd.read_csv(\"C:\\\\Users\\\\HP\\\\Downloads\\\\2022-divvy-tripdata\\\\202204-divvy-tripdata.csv\")\n",
    "trip4.info()"
   ]
  },
  {
   "cell_type": "code",
   "execution_count": 9,
   "id": "fac8ff91",
   "metadata": {},
   "outputs": [
    {
     "name": "stdout",
     "output_type": "stream",
     "text": [
      "<class 'pandas.core.frame.DataFrame'>\n",
      "RangeIndex: 634858 entries, 0 to 634857\n",
      "Data columns (total 13 columns):\n",
      " #   Column              Non-Null Count   Dtype  \n",
      "---  ------              --------------   -----  \n",
      " 0   ride_id             634858 non-null  object \n",
      " 1   rideable_type       634858 non-null  object \n",
      " 2   started_at          634858 non-null  object \n",
      " 3   ended_at            634858 non-null  object \n",
      " 4   start_station_name  548154 non-null  object \n",
      " 5   start_station_id    548154 non-null  object \n",
      " 6   end_station_name    541687 non-null  object \n",
      " 7   end_station_id      541687 non-null  object \n",
      " 8   start_lat           634858 non-null  float64\n",
      " 9   start_lng           634858 non-null  float64\n",
      " 10  end_lat             634136 non-null  float64\n",
      " 11  end_lng             634136 non-null  float64\n",
      " 12  member_casual       634858 non-null  object \n",
      "dtypes: float64(4), object(9)\n",
      "memory usage: 63.0+ MB\n"
     ]
    }
   ],
   "source": [
    "trip5 = pd.read_csv(\"C:\\\\Users\\\\HP\\\\Downloads\\\\2022-divvy-tripdata\\\\202205-divvy-tripdata.csv\")\n",
    "trip5.info()"
   ]
  },
  {
   "cell_type": "code",
   "execution_count": 10,
   "id": "0d096d18",
   "metadata": {},
   "outputs": [
    {
     "name": "stdout",
     "output_type": "stream",
     "text": [
      "<class 'pandas.core.frame.DataFrame'>\n",
      "RangeIndex: 769204 entries, 0 to 769203\n",
      "Data columns (total 13 columns):\n",
      " #   Column              Non-Null Count   Dtype  \n",
      "---  ------              --------------   -----  \n",
      " 0   ride_id             769204 non-null  object \n",
      " 1   rideable_type       769204 non-null  object \n",
      " 2   started_at          769204 non-null  object \n",
      " 3   ended_at            769204 non-null  object \n",
      " 4   start_station_name  676260 non-null  object \n",
      " 5   start_station_id    676260 non-null  object \n",
      " 6   end_station_name    669052 non-null  object \n",
      " 7   end_station_id      669052 non-null  object \n",
      " 8   start_lat           769204 non-null  float64\n",
      " 9   start_lng           769204 non-null  float64\n",
      " 10  end_lat             768149 non-null  float64\n",
      " 11  end_lng             768149 non-null  float64\n",
      " 12  member_casual       769204 non-null  object \n",
      "dtypes: float64(4), object(9)\n",
      "memory usage: 76.3+ MB\n"
     ]
    }
   ],
   "source": [
    "trip6 = pd.read_csv(\"C:\\\\Users\\\\HP\\\\Downloads\\\\2022-divvy-tripdata\\\\202206-divvy-tripdata.csv\")\n",
    "trip6.info()"
   ]
  },
  {
   "cell_type": "code",
   "execution_count": 11,
   "id": "f56ddf00",
   "metadata": {},
   "outputs": [
    {
     "name": "stdout",
     "output_type": "stream",
     "text": [
      "<class 'pandas.core.frame.DataFrame'>\n",
      "RangeIndex: 823488 entries, 0 to 823487\n",
      "Data columns (total 13 columns):\n",
      " #   Column              Non-Null Count   Dtype  \n",
      "---  ------              --------------   -----  \n",
      " 0   ride_id             823488 non-null  object \n",
      " 1   rideable_type       823488 non-null  object \n",
      " 2   started_at          823488 non-null  object \n",
      " 3   ended_at            823488 non-null  object \n",
      " 4   start_station_name  711457 non-null  object \n",
      " 5   start_station_id    711457 non-null  object \n",
      " 6   end_station_name    702537 non-null  object \n",
      " 7   end_station_id      702537 non-null  object \n",
      " 8   start_lat           823488 non-null  float64\n",
      " 9   start_lng           823488 non-null  float64\n",
      " 10  end_lat             822541 non-null  float64\n",
      " 11  end_lng             822541 non-null  float64\n",
      " 12  member_casual       823488 non-null  object \n",
      "dtypes: float64(4), object(9)\n",
      "memory usage: 81.7+ MB\n"
     ]
    }
   ],
   "source": [
    "trip7 = pd.read_csv(\"C:\\\\Users\\\\HP\\\\Downloads\\\\2022-divvy-tripdata\\\\202207-divvy-tripdata.csv\")\n",
    "trip7.info()"
   ]
  },
  {
   "cell_type": "code",
   "execution_count": 12,
   "id": "33506d10",
   "metadata": {},
   "outputs": [
    {
     "name": "stdout",
     "output_type": "stream",
     "text": [
      "<class 'pandas.core.frame.DataFrame'>\n",
      "RangeIndex: 785932 entries, 0 to 785931\n",
      "Data columns (total 13 columns):\n",
      " #   Column              Non-Null Count   Dtype  \n",
      "---  ------              --------------   -----  \n",
      " 0   ride_id             785932 non-null  object \n",
      " 1   rideable_type       785932 non-null  object \n",
      " 2   started_at          785932 non-null  object \n",
      " 3   ended_at            785932 non-null  object \n",
      " 4   start_station_name  673895 non-null  object \n",
      " 5   start_station_id    673895 non-null  object \n",
      " 6   end_station_name    665410 non-null  object \n",
      " 7   end_station_id      665410 non-null  object \n",
      " 8   start_lat           785932 non-null  float64\n",
      " 9   start_lng           785932 non-null  float64\n",
      " 10  end_lat             785089 non-null  float64\n",
      " 11  end_lng             785089 non-null  float64\n",
      " 12  member_casual       785932 non-null  object \n",
      "dtypes: float64(4), object(9)\n",
      "memory usage: 78.0+ MB\n"
     ]
    }
   ],
   "source": [
    "trip8 = pd.read_csv(\"C:\\\\Users\\\\HP\\\\Downloads\\\\2022-divvy-tripdata\\\\202208-divvy-tripdata.csv\")\n",
    "trip8.info()"
   ]
  },
  {
   "cell_type": "code",
   "execution_count": 13,
   "id": "0f9e4b88",
   "metadata": {},
   "outputs": [
    {
     "name": "stdout",
     "output_type": "stream",
     "text": [
      "<class 'pandas.core.frame.DataFrame'>\n",
      "RangeIndex: 701339 entries, 0 to 701338\n",
      "Data columns (total 13 columns):\n",
      " #   Column              Non-Null Count   Dtype  \n",
      "---  ------              --------------   -----  \n",
      " 0   ride_id             701339 non-null  object \n",
      " 1   rideable_type       701339 non-null  object \n",
      " 2   started_at          701339 non-null  object \n",
      " 3   ended_at            701339 non-null  object \n",
      " 4   start_station_name  597559 non-null  object \n",
      " 5   start_station_id    597559 non-null  object \n",
      " 6   end_station_name    590154 non-null  object \n",
      " 7   end_station_id      590154 non-null  object \n",
      " 8   start_lat           701339 non-null  float64\n",
      " 9   start_lng           701339 non-null  float64\n",
      " 10  end_lat             700627 non-null  float64\n",
      " 11  end_lng             700627 non-null  float64\n",
      " 12  member_casual       701339 non-null  object \n",
      "dtypes: float64(4), object(9)\n",
      "memory usage: 69.6+ MB\n"
     ]
    }
   ],
   "source": [
    "trip9 = pd.read_csv(\"C:\\\\Users\\\\HP\\\\Downloads\\\\2022-divvy-tripdata\\\\202209-divvy-publictripdata.csv\")\n",
    "trip9.info()"
   ]
  },
  {
   "cell_type": "code",
   "execution_count": 14,
   "id": "3a687a7f",
   "metadata": {},
   "outputs": [
    {
     "name": "stdout",
     "output_type": "stream",
     "text": [
      "<class 'pandas.core.frame.DataFrame'>\n",
      "RangeIndex: 558685 entries, 0 to 558684\n",
      "Data columns (total 13 columns):\n",
      " #   Column              Non-Null Count   Dtype  \n",
      "---  ------              --------------   -----  \n",
      " 0   ride_id             558685 non-null  object \n",
      " 1   rideable_type       558685 non-null  object \n",
      " 2   started_at          558685 non-null  object \n",
      " 3   ended_at            558685 non-null  object \n",
      " 4   start_station_name  467330 non-null  object \n",
      " 5   start_station_id    467330 non-null  object \n",
      " 6   end_station_name    462068 non-null  object \n",
      " 7   end_station_id      462068 non-null  object \n",
      " 8   start_lat           558685 non-null  float64\n",
      " 9   start_lng           558685 non-null  float64\n",
      " 10  end_lat             558210 non-null  float64\n",
      " 11  end_lng             558210 non-null  float64\n",
      " 12  member_casual       558685 non-null  object \n",
      "dtypes: float64(4), object(9)\n",
      "memory usage: 55.4+ MB\n"
     ]
    }
   ],
   "source": [
    "trip10 = pd.read_csv(\"C:\\\\Users\\\\HP\\\\Downloads\\\\2022-divvy-tripdata\\\\202210-divvy-tripdata.csv\")\n",
    "trip10.info()"
   ]
  },
  {
   "cell_type": "code",
   "execution_count": 15,
   "id": "7c2071c7",
   "metadata": {},
   "outputs": [
    {
     "name": "stdout",
     "output_type": "stream",
     "text": [
      "<class 'pandas.core.frame.DataFrame'>\n",
      "RangeIndex: 337735 entries, 0 to 337734\n",
      "Data columns (total 13 columns):\n",
      " #   Column              Non-Null Count   Dtype  \n",
      "---  ------              --------------   -----  \n",
      " 0   ride_id             337735 non-null  object \n",
      " 1   rideable_type       337735 non-null  object \n",
      " 2   started_at          337735 non-null  object \n",
      " 3   ended_at            337735 non-null  object \n",
      " 4   start_station_name  285778 non-null  object \n",
      " 5   start_station_id    285778 non-null  object \n",
      " 6   end_station_name    283476 non-null  object \n",
      " 7   end_station_id      283476 non-null  object \n",
      " 8   start_lat           337735 non-null  float64\n",
      " 9   start_lng           337735 non-null  float64\n",
      " 10  end_lat             337505 non-null  float64\n",
      " 11  end_lng             337505 non-null  float64\n",
      " 12  member_casual       337735 non-null  object \n",
      "dtypes: float64(4), object(9)\n",
      "memory usage: 33.5+ MB\n"
     ]
    }
   ],
   "source": [
    "trip11 = pd.read_csv(\"C:\\\\Users\\\\HP\\\\Downloads\\\\2022-divvy-tripdata\\\\202211-divvy-tripdata.csv\")\n",
    "trip11.info()"
   ]
  },
  {
   "cell_type": "code",
   "execution_count": 16,
   "id": "9b92144d",
   "metadata": {},
   "outputs": [
    {
     "name": "stdout",
     "output_type": "stream",
     "text": [
      "<class 'pandas.core.frame.DataFrame'>\n",
      "RangeIndex: 181806 entries, 0 to 181805\n",
      "Data columns (total 13 columns):\n",
      " #   Column              Non-Null Count   Dtype  \n",
      "---  ------              --------------   -----  \n",
      " 0   ride_id             181806 non-null  object \n",
      " 1   rideable_type       181806 non-null  object \n",
      " 2   started_at          181806 non-null  object \n",
      " 3   ended_at            181806 non-null  object \n",
      " 4   start_station_name  152523 non-null  object \n",
      " 5   start_station_id    152523 non-null  object \n",
      " 6   end_station_name    150648 non-null  object \n",
      " 7   end_station_id      150648 non-null  object \n",
      " 8   start_lat           181806 non-null  float64\n",
      " 9   start_lng           181806 non-null  float64\n",
      " 10  end_lat             181678 non-null  float64\n",
      " 11  end_lng             181678 non-null  float64\n",
      " 12  member_casual       181806 non-null  object \n",
      "dtypes: float64(4), object(9)\n",
      "memory usage: 18.0+ MB\n"
     ]
    }
   ],
   "source": [
    "trip12 = pd.read_csv(\"C:\\\\Users\\\\HP\\\\Downloads\\\\2022-divvy-tripdata\\\\202212-divvy-tripdata.csv\")\n",
    "trip12.info()"
   ]
  },
  {
   "cell_type": "markdown",
   "id": "0b04a200",
   "metadata": {},
   "source": [
    "### Data transformation and cleaning"
   ]
  },
  {
   "cell_type": "markdown",
   "id": "8137beb4",
   "metadata": {},
   "source": [
    "All dataframe have same datatype so we dont need to convert data"
   ]
  },
  {
   "cell_type": "markdown",
   "id": "5fec4ca6",
   "metadata": {},
   "source": [
    "# Process\n",
    "Concat all the dataset into 1 dataframe"
   ]
  },
  {
   "cell_type": "code",
   "execution_count": 17,
   "id": "f4f894d9",
   "metadata": {},
   "outputs": [],
   "source": [
    "df_trip2022 = pd.concat([trip1,trip2,trip3,trip4,trip5,trip6,trip7,trip8,trip9,trip10,trip11,trip12], axis=0)"
   ]
  },
  {
   "cell_type": "code",
   "execution_count": 18,
   "id": "55c1eb73",
   "metadata": {},
   "outputs": [
    {
     "name": "stdout",
     "output_type": "stream",
     "text": [
      "<class 'pandas.core.frame.DataFrame'>\n",
      "Int64Index: 5667717 entries, 0 to 181805\n",
      "Data columns (total 13 columns):\n",
      " #   Column              Dtype  \n",
      "---  ------              -----  \n",
      " 0   ride_id             object \n",
      " 1   rideable_type       object \n",
      " 2   started_at          object \n",
      " 3   ended_at            object \n",
      " 4   start_station_name  object \n",
      " 5   start_station_id    object \n",
      " 6   end_station_name    object \n",
      " 7   end_station_id      object \n",
      " 8   start_lat           float64\n",
      " 9   start_lng           float64\n",
      " 10  end_lat             float64\n",
      " 11  end_lng             float64\n",
      " 12  member_casual       object \n",
      "dtypes: float64(4), object(9)\n",
      "memory usage: 605.4+ MB\n"
     ]
    }
   ],
   "source": [
    "df_trip2022.info()"
   ]
  },
  {
   "cell_type": "code",
   "execution_count": 19,
   "id": "8a0fa395",
   "metadata": {
    "scrolled": true
   },
   "outputs": [
    {
     "data": {
      "text/html": [
       "<div>\n",
       "<style scoped>\n",
       "    .dataframe tbody tr th:only-of-type {\n",
       "        vertical-align: middle;\n",
       "    }\n",
       "\n",
       "    .dataframe tbody tr th {\n",
       "        vertical-align: top;\n",
       "    }\n",
       "\n",
       "    .dataframe thead th {\n",
       "        text-align: right;\n",
       "    }\n",
       "</style>\n",
       "<table border=\"1\" class=\"dataframe\">\n",
       "  <thead>\n",
       "    <tr style=\"text-align: right;\">\n",
       "      <th></th>\n",
       "      <th>ride_id</th>\n",
       "      <th>rideable_type</th>\n",
       "      <th>started_at</th>\n",
       "      <th>ended_at</th>\n",
       "      <th>start_station_name</th>\n",
       "      <th>start_station_id</th>\n",
       "      <th>end_station_name</th>\n",
       "      <th>end_station_id</th>\n",
       "      <th>start_lat</th>\n",
       "      <th>start_lng</th>\n",
       "      <th>end_lat</th>\n",
       "      <th>end_lng</th>\n",
       "      <th>member_casual</th>\n",
       "    </tr>\n",
       "  </thead>\n",
       "  <tbody>\n",
       "    <tr>\n",
       "      <th>0</th>\n",
       "      <td>C2F7DD78E82EC875</td>\n",
       "      <td>electric_bike</td>\n",
       "      <td>2022-01-13 11:59:47</td>\n",
       "      <td>2022-01-13 12:02:44</td>\n",
       "      <td>Glenwood Ave &amp; Touhy Ave</td>\n",
       "      <td>525</td>\n",
       "      <td>Clark St &amp; Touhy Ave</td>\n",
       "      <td>RP-007</td>\n",
       "      <td>42.012800</td>\n",
       "      <td>-87.665906</td>\n",
       "      <td>42.012560</td>\n",
       "      <td>-87.674367</td>\n",
       "      <td>casual</td>\n",
       "    </tr>\n",
       "    <tr>\n",
       "      <th>1</th>\n",
       "      <td>A6CF8980A652D272</td>\n",
       "      <td>electric_bike</td>\n",
       "      <td>2022-01-10 08:41:56</td>\n",
       "      <td>2022-01-10 08:46:17</td>\n",
       "      <td>Glenwood Ave &amp; Touhy Ave</td>\n",
       "      <td>525</td>\n",
       "      <td>Clark St &amp; Touhy Ave</td>\n",
       "      <td>RP-007</td>\n",
       "      <td>42.012763</td>\n",
       "      <td>-87.665967</td>\n",
       "      <td>42.012560</td>\n",
       "      <td>-87.674367</td>\n",
       "      <td>casual</td>\n",
       "    </tr>\n",
       "    <tr>\n",
       "      <th>2</th>\n",
       "      <td>BD0F91DFF741C66D</td>\n",
       "      <td>classic_bike</td>\n",
       "      <td>2022-01-25 04:53:40</td>\n",
       "      <td>2022-01-25 04:58:01</td>\n",
       "      <td>Sheffield Ave &amp; Fullerton Ave</td>\n",
       "      <td>TA1306000016</td>\n",
       "      <td>Greenview Ave &amp; Fullerton Ave</td>\n",
       "      <td>TA1307000001</td>\n",
       "      <td>41.925602</td>\n",
       "      <td>-87.653708</td>\n",
       "      <td>41.925330</td>\n",
       "      <td>-87.665800</td>\n",
       "      <td>member</td>\n",
       "    </tr>\n",
       "    <tr>\n",
       "      <th>3</th>\n",
       "      <td>CBB80ED419105406</td>\n",
       "      <td>classic_bike</td>\n",
       "      <td>2022-01-04 00:18:04</td>\n",
       "      <td>2022-01-04 00:33:00</td>\n",
       "      <td>Clark St &amp; Bryn Mawr Ave</td>\n",
       "      <td>KA1504000151</td>\n",
       "      <td>Paulina St &amp; Montrose Ave</td>\n",
       "      <td>TA1309000021</td>\n",
       "      <td>41.983593</td>\n",
       "      <td>-87.669154</td>\n",
       "      <td>41.961507</td>\n",
       "      <td>-87.671387</td>\n",
       "      <td>casual</td>\n",
       "    </tr>\n",
       "    <tr>\n",
       "      <th>4</th>\n",
       "      <td>DDC963BFDDA51EEA</td>\n",
       "      <td>classic_bike</td>\n",
       "      <td>2022-01-20 01:31:10</td>\n",
       "      <td>2022-01-20 01:37:12</td>\n",
       "      <td>Michigan Ave &amp; Jackson Blvd</td>\n",
       "      <td>TA1309000002</td>\n",
       "      <td>State St &amp; Randolph St</td>\n",
       "      <td>TA1305000029</td>\n",
       "      <td>41.877850</td>\n",
       "      <td>-87.624080</td>\n",
       "      <td>41.884621</td>\n",
       "      <td>-87.627834</td>\n",
       "      <td>member</td>\n",
       "    </tr>\n",
       "  </tbody>\n",
       "</table>\n",
       "</div>"
      ],
      "text/plain": [
       "            ride_id  rideable_type           started_at             ended_at  \\\n",
       "0  C2F7DD78E82EC875  electric_bike  2022-01-13 11:59:47  2022-01-13 12:02:44   \n",
       "1  A6CF8980A652D272  electric_bike  2022-01-10 08:41:56  2022-01-10 08:46:17   \n",
       "2  BD0F91DFF741C66D   classic_bike  2022-01-25 04:53:40  2022-01-25 04:58:01   \n",
       "3  CBB80ED419105406   classic_bike  2022-01-04 00:18:04  2022-01-04 00:33:00   \n",
       "4  DDC963BFDDA51EEA   classic_bike  2022-01-20 01:31:10  2022-01-20 01:37:12   \n",
       "\n",
       "              start_station_name start_station_id  \\\n",
       "0       Glenwood Ave & Touhy Ave              525   \n",
       "1       Glenwood Ave & Touhy Ave              525   \n",
       "2  Sheffield Ave & Fullerton Ave     TA1306000016   \n",
       "3       Clark St & Bryn Mawr Ave     KA1504000151   \n",
       "4    Michigan Ave & Jackson Blvd     TA1309000002   \n",
       "\n",
       "                end_station_name end_station_id  start_lat  start_lng  \\\n",
       "0           Clark St & Touhy Ave         RP-007  42.012800 -87.665906   \n",
       "1           Clark St & Touhy Ave         RP-007  42.012763 -87.665967   \n",
       "2  Greenview Ave & Fullerton Ave   TA1307000001  41.925602 -87.653708   \n",
       "3      Paulina St & Montrose Ave   TA1309000021  41.983593 -87.669154   \n",
       "4         State St & Randolph St   TA1305000029  41.877850 -87.624080   \n",
       "\n",
       "     end_lat    end_lng member_casual  \n",
       "0  42.012560 -87.674367        casual  \n",
       "1  42.012560 -87.674367        casual  \n",
       "2  41.925330 -87.665800        member  \n",
       "3  41.961507 -87.671387        casual  \n",
       "4  41.884621 -87.627834        member  "
      ]
     },
     "execution_count": 19,
     "metadata": {},
     "output_type": "execute_result"
    }
   ],
   "source": [
    "df_trip2022.head()"
   ]
  },
  {
   "cell_type": "markdown",
   "id": "64c831b3",
   "metadata": {},
   "source": [
    "Delect row that Duration < 0"
   ]
  },
  {
   "cell_type": "code",
   "execution_count": 20,
   "id": "2f65b1ca",
   "metadata": {},
   "outputs": [
    {
     "data": {
      "text/plain": [
       "100"
      ]
     },
     "execution_count": 20,
     "metadata": {},
     "output_type": "execute_result"
    }
   ],
   "source": [
    "durationless0 = df_trip2022.loc[df_trip2022['ended_at'] < df_trip2022['started_at']].index\n",
    "len(durationless0)"
   ]
  },
  {
   "cell_type": "code",
   "execution_count": 21,
   "id": "f4acfee2",
   "metadata": {},
   "outputs": [],
   "source": [
    "trip2022 = df_trip2022.drop(durationless0, axis = 0)"
   ]
  },
  {
   "cell_type": "markdown",
   "id": "2043064e",
   "metadata": {},
   "source": [
    "### started_at & ended_at should be in datetime datatype instead of char. Convert all from char to datetime.\n",
    "* started_at\n",
    "* ended_at\n",
    "* ride_length"
   ]
  },
  {
   "cell_type": "code",
   "execution_count": 22,
   "id": "d0350b2d",
   "metadata": {},
   "outputs": [],
   "source": [
    "trip2022 = trip2022.copy()\n",
    "trip2022.loc[:, 'started_at'] = pd.to_datetime(trip2022['started_at'])\n",
    "trip2022.loc[:, 'ended_at'] = pd.to_datetime(trip2022['ended_at'])"
   ]
  },
  {
   "cell_type": "code",
   "execution_count": 23,
   "id": "1ec5ee4f",
   "metadata": {},
   "outputs": [],
   "source": [
    "trip2022['ride_length'] = pd.to_timedelta(trip2022['ended_at'] - trip2022['started_at'])"
   ]
  },
  {
   "cell_type": "code",
   "execution_count": 24,
   "id": "122fc060",
   "metadata": {},
   "outputs": [],
   "source": [
    "trip2022['day_of_week'] = trip2022['started_at'].dt.dayofweek"
   ]
  },
  {
   "cell_type": "code",
   "execution_count": 25,
   "id": "6528a180",
   "metadata": {},
   "outputs": [
    {
     "data": {
      "text/plain": [
       "ride_id                    0\n",
       "rideable_type              0\n",
       "started_at                 0\n",
       "ended_at                   0\n",
       "start_station_name    832922\n",
       "start_station_id      832922\n",
       "end_station_name      892630\n",
       "end_station_id        892630\n",
       "start_lat                  0\n",
       "start_lng                  0\n",
       "end_lat                 5858\n",
       "end_lng                 5858\n",
       "member_casual              0\n",
       "ride_length                0\n",
       "day_of_week                0\n",
       "dtype: int64"
      ]
     },
     "execution_count": 25,
     "metadata": {},
     "output_type": "execute_result"
    }
   ],
   "source": [
    "trip2022.isna().sum()"
   ]
  },
  {
   "cell_type": "code",
   "execution_count": 26,
   "id": "225b1195",
   "metadata": {},
   "outputs": [
    {
     "data": {
      "text/plain": [
       "ride_id               0\n",
       "rideable_type         0\n",
       "started_at            0\n",
       "ended_at              0\n",
       "start_station_name    0\n",
       "start_station_id      0\n",
       "end_station_name      0\n",
       "end_station_id        0\n",
       "start_lat             0\n",
       "start_lng             0\n",
       "end_lat               0\n",
       "end_lng               0\n",
       "member_casual         0\n",
       "ride_length           0\n",
       "day_of_week           0\n",
       "dtype: int64"
      ]
     },
     "execution_count": 26,
     "metadata": {},
     "output_type": "execute_result"
    }
   ],
   "source": [
    "trip2022 = trip2022.dropna(axis = 0)\n",
    "trip2022.isna().sum()"
   ]
  },
  {
   "cell_type": "code",
   "execution_count": 27,
   "id": "b3695ba1",
   "metadata": {},
   "outputs": [
    {
     "data": {
      "text/html": [
       "<div>\n",
       "<style scoped>\n",
       "    .dataframe tbody tr th:only-of-type {\n",
       "        vertical-align: middle;\n",
       "    }\n",
       "\n",
       "    .dataframe tbody tr th {\n",
       "        vertical-align: top;\n",
       "    }\n",
       "\n",
       "    .dataframe thead th {\n",
       "        text-align: right;\n",
       "    }\n",
       "</style>\n",
       "<table border=\"1\" class=\"dataframe\">\n",
       "  <thead>\n",
       "    <tr style=\"text-align: right;\">\n",
       "      <th></th>\n",
       "      <th>ride_id</th>\n",
       "      <th>rideable_type</th>\n",
       "      <th>started_at</th>\n",
       "      <th>ended_at</th>\n",
       "      <th>start_station_name</th>\n",
       "      <th>start_station_id</th>\n",
       "      <th>end_station_name</th>\n",
       "      <th>end_station_id</th>\n",
       "      <th>start_lat</th>\n",
       "      <th>start_lng</th>\n",
       "      <th>end_lat</th>\n",
       "      <th>end_lng</th>\n",
       "      <th>member_casual</th>\n",
       "      <th>ride_length</th>\n",
       "      <th>day_of_week</th>\n",
       "    </tr>\n",
       "  </thead>\n",
       "  <tbody>\n",
       "    <tr>\n",
       "      <th>0</th>\n",
       "      <td>C2F7DD78E82EC875</td>\n",
       "      <td>electric_bike</td>\n",
       "      <td>2022-01-13 11:59:47</td>\n",
       "      <td>2022-01-13 12:02:44</td>\n",
       "      <td>Glenwood Ave &amp; Touhy Ave</td>\n",
       "      <td>525</td>\n",
       "      <td>Clark St &amp; Touhy Ave</td>\n",
       "      <td>RP-007</td>\n",
       "      <td>42.012800</td>\n",
       "      <td>-87.665906</td>\n",
       "      <td>42.012560</td>\n",
       "      <td>-87.674367</td>\n",
       "      <td>casual</td>\n",
       "      <td>0 days 00:02:57</td>\n",
       "      <td>3</td>\n",
       "    </tr>\n",
       "    <tr>\n",
       "      <th>1</th>\n",
       "      <td>A6CF8980A652D272</td>\n",
       "      <td>electric_bike</td>\n",
       "      <td>2022-01-10 08:41:56</td>\n",
       "      <td>2022-01-10 08:46:17</td>\n",
       "      <td>Glenwood Ave &amp; Touhy Ave</td>\n",
       "      <td>525</td>\n",
       "      <td>Clark St &amp; Touhy Ave</td>\n",
       "      <td>RP-007</td>\n",
       "      <td>42.012763</td>\n",
       "      <td>-87.665967</td>\n",
       "      <td>42.012560</td>\n",
       "      <td>-87.674367</td>\n",
       "      <td>casual</td>\n",
       "      <td>0 days 00:04:21</td>\n",
       "      <td>0</td>\n",
       "    </tr>\n",
       "    <tr>\n",
       "      <th>2</th>\n",
       "      <td>BD0F91DFF741C66D</td>\n",
       "      <td>classic_bike</td>\n",
       "      <td>2022-01-25 04:53:40</td>\n",
       "      <td>2022-01-25 04:58:01</td>\n",
       "      <td>Sheffield Ave &amp; Fullerton Ave</td>\n",
       "      <td>TA1306000016</td>\n",
       "      <td>Greenview Ave &amp; Fullerton Ave</td>\n",
       "      <td>TA1307000001</td>\n",
       "      <td>41.925602</td>\n",
       "      <td>-87.653708</td>\n",
       "      <td>41.925330</td>\n",
       "      <td>-87.665800</td>\n",
       "      <td>member</td>\n",
       "      <td>0 days 00:04:21</td>\n",
       "      <td>1</td>\n",
       "    </tr>\n",
       "    <tr>\n",
       "      <th>3</th>\n",
       "      <td>CBB80ED419105406</td>\n",
       "      <td>classic_bike</td>\n",
       "      <td>2022-01-04 00:18:04</td>\n",
       "      <td>2022-01-04 00:33:00</td>\n",
       "      <td>Clark St &amp; Bryn Mawr Ave</td>\n",
       "      <td>KA1504000151</td>\n",
       "      <td>Paulina St &amp; Montrose Ave</td>\n",
       "      <td>TA1309000021</td>\n",
       "      <td>41.983593</td>\n",
       "      <td>-87.669154</td>\n",
       "      <td>41.961507</td>\n",
       "      <td>-87.671387</td>\n",
       "      <td>casual</td>\n",
       "      <td>0 days 00:14:56</td>\n",
       "      <td>1</td>\n",
       "    </tr>\n",
       "    <tr>\n",
       "      <th>4</th>\n",
       "      <td>DDC963BFDDA51EEA</td>\n",
       "      <td>classic_bike</td>\n",
       "      <td>2022-01-20 01:31:10</td>\n",
       "      <td>2022-01-20 01:37:12</td>\n",
       "      <td>Michigan Ave &amp; Jackson Blvd</td>\n",
       "      <td>TA1309000002</td>\n",
       "      <td>State St &amp; Randolph St</td>\n",
       "      <td>TA1305000029</td>\n",
       "      <td>41.877850</td>\n",
       "      <td>-87.624080</td>\n",
       "      <td>41.884621</td>\n",
       "      <td>-87.627834</td>\n",
       "      <td>member</td>\n",
       "      <td>0 days 00:06:02</td>\n",
       "      <td>3</td>\n",
       "    </tr>\n",
       "  </tbody>\n",
       "</table>\n",
       "</div>"
      ],
      "text/plain": [
       "            ride_id  rideable_type          started_at            ended_at  \\\n",
       "0  C2F7DD78E82EC875  electric_bike 2022-01-13 11:59:47 2022-01-13 12:02:44   \n",
       "1  A6CF8980A652D272  electric_bike 2022-01-10 08:41:56 2022-01-10 08:46:17   \n",
       "2  BD0F91DFF741C66D   classic_bike 2022-01-25 04:53:40 2022-01-25 04:58:01   \n",
       "3  CBB80ED419105406   classic_bike 2022-01-04 00:18:04 2022-01-04 00:33:00   \n",
       "4  DDC963BFDDA51EEA   classic_bike 2022-01-20 01:31:10 2022-01-20 01:37:12   \n",
       "\n",
       "              start_station_name start_station_id  \\\n",
       "0       Glenwood Ave & Touhy Ave              525   \n",
       "1       Glenwood Ave & Touhy Ave              525   \n",
       "2  Sheffield Ave & Fullerton Ave     TA1306000016   \n",
       "3       Clark St & Bryn Mawr Ave     KA1504000151   \n",
       "4    Michigan Ave & Jackson Blvd     TA1309000002   \n",
       "\n",
       "                end_station_name end_station_id  start_lat  start_lng  \\\n",
       "0           Clark St & Touhy Ave         RP-007  42.012800 -87.665906   \n",
       "1           Clark St & Touhy Ave         RP-007  42.012763 -87.665967   \n",
       "2  Greenview Ave & Fullerton Ave   TA1307000001  41.925602 -87.653708   \n",
       "3      Paulina St & Montrose Ave   TA1309000021  41.983593 -87.669154   \n",
       "4         State St & Randolph St   TA1305000029  41.877850 -87.624080   \n",
       "\n",
       "     end_lat    end_lng member_casual     ride_length  day_of_week  \n",
       "0  42.012560 -87.674367        casual 0 days 00:02:57            3  \n",
       "1  42.012560 -87.674367        casual 0 days 00:04:21            0  \n",
       "2  41.925330 -87.665800        member 0 days 00:04:21            1  \n",
       "3  41.961507 -87.671387        casual 0 days 00:14:56            1  \n",
       "4  41.884621 -87.627834        member 0 days 00:06:02            3  "
      ]
     },
     "execution_count": 27,
     "metadata": {},
     "output_type": "execute_result"
    }
   ],
   "source": [
    "trip2022.head()"
   ]
  },
  {
   "cell_type": "code",
   "execution_count": 28,
   "id": "268b5a46",
   "metadata": {},
   "outputs": [
    {
     "data": {
      "text/html": [
       "<div>\n",
       "<style scoped>\n",
       "    .dataframe tbody tr th:only-of-type {\n",
       "        vertical-align: middle;\n",
       "    }\n",
       "\n",
       "    .dataframe tbody tr th {\n",
       "        vertical-align: top;\n",
       "    }\n",
       "\n",
       "    .dataframe thead th {\n",
       "        text-align: right;\n",
       "    }\n",
       "</style>\n",
       "<table border=\"1\" class=\"dataframe\">\n",
       "  <thead>\n",
       "    <tr style=\"text-align: right;\">\n",
       "      <th></th>\n",
       "      <th>start_lat</th>\n",
       "      <th>start_lng</th>\n",
       "      <th>end_lat</th>\n",
       "      <th>end_lng</th>\n",
       "      <th>ride_length</th>\n",
       "      <th>day_of_week</th>\n",
       "    </tr>\n",
       "  </thead>\n",
       "  <tbody>\n",
       "    <tr>\n",
       "      <th>count</th>\n",
       "      <td>4.368746e+06</td>\n",
       "      <td>4.368746e+06</td>\n",
       "      <td>4.368746e+06</td>\n",
       "      <td>4.368746e+06</td>\n",
       "      <td>4368746</td>\n",
       "      <td>4.368746e+06</td>\n",
       "    </tr>\n",
       "    <tr>\n",
       "      <th>mean</th>\n",
       "      <td>4.190202e+01</td>\n",
       "      <td>-8.764484e+01</td>\n",
       "      <td>4.190226e+01</td>\n",
       "      <td>-8.764495e+01</td>\n",
       "      <td>0 days 00:17:05.752478628</td>\n",
       "      <td>3.052121e+00</td>\n",
       "    </tr>\n",
       "    <tr>\n",
       "      <th>std</th>\n",
       "      <td>4.256198e-02</td>\n",
       "      <td>2.577976e-02</td>\n",
       "      <td>7.098791e-02</td>\n",
       "      <td>1.212318e-01</td>\n",
       "      <td>0 days 00:47:52.183864287</td>\n",
       "      <td>1.980087e+00</td>\n",
       "    </tr>\n",
       "    <tr>\n",
       "      <th>min</th>\n",
       "      <td>4.164850e+01</td>\n",
       "      <td>-8.783332e+01</td>\n",
       "      <td>0.000000e+00</td>\n",
       "      <td>-8.783000e+01</td>\n",
       "      <td>0 days 00:00:00</td>\n",
       "      <td>0.000000e+00</td>\n",
       "    </tr>\n",
       "    <tr>\n",
       "      <th>25%</th>\n",
       "      <td>4.188104e+01</td>\n",
       "      <td>-8.765814e+01</td>\n",
       "      <td>4.188132e+01</td>\n",
       "      <td>-8.765862e+01</td>\n",
       "      <td>0 days 00:06:03</td>\n",
       "      <td>1.000000e+00</td>\n",
       "    </tr>\n",
       "    <tr>\n",
       "      <th>50%</th>\n",
       "      <td>4.189694e+01</td>\n",
       "      <td>-8.764182e+01</td>\n",
       "      <td>4.189766e+01</td>\n",
       "      <td>-8.764275e+01</td>\n",
       "      <td>0 days 00:10:36</td>\n",
       "      <td>3.000000e+00</td>\n",
       "    </tr>\n",
       "    <tr>\n",
       "      <th>75%</th>\n",
       "      <td>4.192877e+01</td>\n",
       "      <td>-8.762858e+01</td>\n",
       "      <td>4.192889e+01</td>\n",
       "      <td>-8.762858e+01</td>\n",
       "      <td>0 days 00:19:01</td>\n",
       "      <td>5.000000e+00</td>\n",
       "    </tr>\n",
       "    <tr>\n",
       "      <th>max</th>\n",
       "      <td>4.563503e+01</td>\n",
       "      <td>-7.379648e+01</td>\n",
       "      <td>4.206485e+01</td>\n",
       "      <td>0.000000e+00</td>\n",
       "      <td>23 days 20:34:04</td>\n",
       "      <td>6.000000e+00</td>\n",
       "    </tr>\n",
       "  </tbody>\n",
       "</table>\n",
       "</div>"
      ],
      "text/plain": [
       "          start_lat     start_lng       end_lat       end_lng  \\\n",
       "count  4.368746e+06  4.368746e+06  4.368746e+06  4.368746e+06   \n",
       "mean   4.190202e+01 -8.764484e+01  4.190226e+01 -8.764495e+01   \n",
       "std    4.256198e-02  2.577976e-02  7.098791e-02  1.212318e-01   \n",
       "min    4.164850e+01 -8.783332e+01  0.000000e+00 -8.783000e+01   \n",
       "25%    4.188104e+01 -8.765814e+01  4.188132e+01 -8.765862e+01   \n",
       "50%    4.189694e+01 -8.764182e+01  4.189766e+01 -8.764275e+01   \n",
       "75%    4.192877e+01 -8.762858e+01  4.192889e+01 -8.762858e+01   \n",
       "max    4.563503e+01 -7.379648e+01  4.206485e+01  0.000000e+00   \n",
       "\n",
       "                     ride_length   day_of_week  \n",
       "count                    4368746  4.368746e+06  \n",
       "mean   0 days 00:17:05.752478628  3.052121e+00  \n",
       "std    0 days 00:47:52.183864287  1.980087e+00  \n",
       "min              0 days 00:00:00  0.000000e+00  \n",
       "25%              0 days 00:06:03  1.000000e+00  \n",
       "50%              0 days 00:10:36  3.000000e+00  \n",
       "75%              0 days 00:19:01  5.000000e+00  \n",
       "max             23 days 20:34:04  6.000000e+00  "
      ]
     },
     "execution_count": 28,
     "metadata": {},
     "output_type": "execute_result"
    }
   ],
   "source": [
    "trip2022.describe()"
   ]
  },
  {
   "cell_type": "code",
   "execution_count": 29,
   "id": "69d1118e",
   "metadata": {},
   "outputs": [
    {
     "data": {
      "text/plain": [
       "5    705519\n",
       "3    645815\n",
       "2    616292\n",
       "4    608762\n",
       "1    607551\n",
       "6    598953\n",
       "0    585854\n",
       "Name: day_of_week, dtype: int64"
      ]
     },
     "execution_count": 29,
     "metadata": {},
     "output_type": "execute_result"
    }
   ],
   "source": [
    "trip2022['day_of_week'].value_counts()"
   ]
  },
  {
   "cell_type": "code",
   "execution_count": 30,
   "id": "d46e870b",
   "metadata": {},
   "outputs": [
    {
     "data": {
      "text/html": [
       "<div>\n",
       "<style scoped>\n",
       "    .dataframe tbody tr th:only-of-type {\n",
       "        vertical-align: middle;\n",
       "    }\n",
       "\n",
       "    .dataframe tbody tr th {\n",
       "        vertical-align: top;\n",
       "    }\n",
       "\n",
       "    .dataframe thead th {\n",
       "        text-align: right;\n",
       "    }\n",
       "</style>\n",
       "<table border=\"1\" class=\"dataframe\">\n",
       "  <thead>\n",
       "    <tr style=\"text-align: right;\">\n",
       "      <th></th>\n",
       "      <th>start_lat</th>\n",
       "      <th>start_lng</th>\n",
       "      <th>end_lat</th>\n",
       "      <th>end_lng</th>\n",
       "      <th>ride_length</th>\n",
       "      <th>day_of_week</th>\n",
       "    </tr>\n",
       "  </thead>\n",
       "  <tbody>\n",
       "    <tr>\n",
       "      <th>count</th>\n",
       "      <td>4.368746e+06</td>\n",
       "      <td>4.368746e+06</td>\n",
       "      <td>4.368746e+06</td>\n",
       "      <td>4.368746e+06</td>\n",
       "      <td>4.368746e+06</td>\n",
       "      <td>4.368746e+06</td>\n",
       "    </tr>\n",
       "    <tr>\n",
       "      <th>mean</th>\n",
       "      <td>4.190202e+01</td>\n",
       "      <td>-8.764484e+01</td>\n",
       "      <td>4.190226e+01</td>\n",
       "      <td>-8.764495e+01</td>\n",
       "      <td>1.025752e+03</td>\n",
       "      <td>3.052121e+00</td>\n",
       "    </tr>\n",
       "    <tr>\n",
       "      <th>std</th>\n",
       "      <td>4.256198e-02</td>\n",
       "      <td>2.577976e-02</td>\n",
       "      <td>7.098791e-02</td>\n",
       "      <td>1.212318e-01</td>\n",
       "      <td>2.872184e+03</td>\n",
       "      <td>1.980087e+00</td>\n",
       "    </tr>\n",
       "    <tr>\n",
       "      <th>min</th>\n",
       "      <td>4.164850e+01</td>\n",
       "      <td>-8.783332e+01</td>\n",
       "      <td>0.000000e+00</td>\n",
       "      <td>-8.783000e+01</td>\n",
       "      <td>0.000000e+00</td>\n",
       "      <td>0.000000e+00</td>\n",
       "    </tr>\n",
       "    <tr>\n",
       "      <th>25%</th>\n",
       "      <td>4.188104e+01</td>\n",
       "      <td>-8.765814e+01</td>\n",
       "      <td>4.188132e+01</td>\n",
       "      <td>-8.765862e+01</td>\n",
       "      <td>3.630000e+02</td>\n",
       "      <td>1.000000e+00</td>\n",
       "    </tr>\n",
       "    <tr>\n",
       "      <th>50%</th>\n",
       "      <td>4.189694e+01</td>\n",
       "      <td>-8.764182e+01</td>\n",
       "      <td>4.189766e+01</td>\n",
       "      <td>-8.764275e+01</td>\n",
       "      <td>6.360000e+02</td>\n",
       "      <td>3.000000e+00</td>\n",
       "    </tr>\n",
       "    <tr>\n",
       "      <th>75%</th>\n",
       "      <td>4.192877e+01</td>\n",
       "      <td>-8.762858e+01</td>\n",
       "      <td>4.192889e+01</td>\n",
       "      <td>-8.762858e+01</td>\n",
       "      <td>1.141000e+03</td>\n",
       "      <td>5.000000e+00</td>\n",
       "    </tr>\n",
       "    <tr>\n",
       "      <th>max</th>\n",
       "      <td>4.563503e+01</td>\n",
       "      <td>-7.379648e+01</td>\n",
       "      <td>4.206485e+01</td>\n",
       "      <td>0.000000e+00</td>\n",
       "      <td>2.061244e+06</td>\n",
       "      <td>6.000000e+00</td>\n",
       "    </tr>\n",
       "  </tbody>\n",
       "</table>\n",
       "</div>"
      ],
      "text/plain": [
       "          start_lat     start_lng       end_lat       end_lng   ride_length  \\\n",
       "count  4.368746e+06  4.368746e+06  4.368746e+06  4.368746e+06  4.368746e+06   \n",
       "mean   4.190202e+01 -8.764484e+01  4.190226e+01 -8.764495e+01  1.025752e+03   \n",
       "std    4.256198e-02  2.577976e-02  7.098791e-02  1.212318e-01  2.872184e+03   \n",
       "min    4.164850e+01 -8.783332e+01  0.000000e+00 -8.783000e+01  0.000000e+00   \n",
       "25%    4.188104e+01 -8.765814e+01  4.188132e+01 -8.765862e+01  3.630000e+02   \n",
       "50%    4.189694e+01 -8.764182e+01  4.189766e+01 -8.764275e+01  6.360000e+02   \n",
       "75%    4.192877e+01 -8.762858e+01  4.192889e+01 -8.762858e+01  1.141000e+03   \n",
       "max    4.563503e+01 -7.379648e+01  4.206485e+01  0.000000e+00  2.061244e+06   \n",
       "\n",
       "        day_of_week  \n",
       "count  4.368746e+06  \n",
       "mean   3.052121e+00  \n",
       "std    1.980087e+00  \n",
       "min    0.000000e+00  \n",
       "25%    1.000000e+00  \n",
       "50%    3.000000e+00  \n",
       "75%    5.000000e+00  \n",
       "max    6.000000e+00  "
      ]
     },
     "execution_count": 30,
     "metadata": {},
     "output_type": "execute_result"
    }
   ],
   "source": [
    "trip2022['ride_length'] = trip2022['ride_length'].dt.total_seconds().astype(float)\n",
    "trip2022.describe()"
   ]
  },
  {
   "cell_type": "code",
   "execution_count": 31,
   "id": "f5102e0e",
   "metadata": {},
   "outputs": [
    {
     "data": {
      "text/plain": [
       "member    2610800\n",
       "casual    1757946\n",
       "Name: member_casual, dtype: int64"
      ]
     },
     "execution_count": 31,
     "metadata": {},
     "output_type": "execute_result"
    }
   ],
   "source": [
    "trip2022['member_casual'].value_counts()"
   ]
  },
  {
   "cell_type": "markdown",
   "id": "363c47fe",
   "metadata": {},
   "source": [
    "# Analyze & Share"
   ]
  },
  {
   "cell_type": "code",
   "execution_count": 32,
   "id": "af1958c7",
   "metadata": {},
   "outputs": [],
   "source": [
    "# statictical summary of ride_length for all trips"
   ]
  },
  {
   "cell_type": "code",
   "execution_count": 33,
   "id": "f1aa1f2d",
   "metadata": {},
   "outputs": [
    {
     "name": "stdout",
     "output_type": "stream",
     "text": [
      "Mean    :  1025.7524786288789 s\n",
      "Median  :  636.0 s\n",
      "Mode    :  359.0 s\n",
      "Sum     :  4481252038.0 s\n",
      "Std     :  2872.1838642886632 s\n"
     ]
    }
   ],
   "source": [
    "# Mean\n",
    "mean_rl = trip2022['ride_length'].mean()\n",
    "\n",
    "# Median\n",
    "median_rl = trip2022['ride_length'].median()\n",
    "\n",
    "# Mode\n",
    "mode_rl = trip2022['ride_length'].mode().get(0)\n",
    "\n",
    "# Sum\n",
    "sum_rl = trip2022['ride_length'].sum()\n",
    "\n",
    "# Std\n",
    "std_rl = trip2022['ride_length'].std()\n",
    "\n",
    "print('Mean    : ', mean_rl,'s')\n",
    "print('Median  : ', median_rl,'s')\n",
    "print('Mode    : ', mode_rl,'s')\n",
    "print('Sum     : ', sum_rl,'s')\n",
    "print('Std     : ', std_rl,'s')"
   ]
  },
  {
   "cell_type": "code",
   "execution_count": 34,
   "id": "19e5a2ff",
   "metadata": {},
   "outputs": [
    {
     "name": "stdout",
     "output_type": "stream",
     "text": [
      "               cus_min    cus_max  cus_median     cus_mean\n",
      "member_casual                                             \n",
      "casual             0.0  2061244.0       831.0  1439.583690\n",
      "member             0.0    89594.0       539.0   747.104967\n"
     ]
    }
   ],
   "source": [
    "sta_custype = trip2022.groupby('member_casual').agg(\n",
    "    cus_min=('ride_length', 'min'),\n",
    "    cus_max=('ride_length', 'max'),\n",
    "    cus_median=('ride_length', 'median'),\n",
    "    cus_mean=('ride_length', 'mean')\n",
    ")\n",
    "print(sta_custype)"
   ]
  },
  {
   "cell_type": "code",
   "execution_count": 35,
   "id": "8d80fcdd",
   "metadata": {},
   "outputs": [
    {
     "name": "stdout",
     "output_type": "stream",
     "text": [
      "   member_casual  day_of_week  number_of_rides  average_ride_length\n",
      "6         casual            6           301266          1633.666444\n",
      "5         casual            5           367301          1605.986703\n",
      "4         casual            4           248758          1341.435274\n",
      "3         casual            3           229981          1284.186876\n",
      "2         casual            2           203553          1243.068980\n",
      "1         casual            1           196360          1286.493512\n",
      "0         casual            0           210727          1490.004072\n",
      "13        member            6           297687           831.042316\n",
      "12        member            5           338218           838.901457\n",
      "11        member            4           360004           733.629812\n",
      "10        member            3           415834           721.909846\n",
      "9         member            2           412739           710.819293\n",
      "8         member            1           411191           707.467593\n",
      "7         member            0           375127           721.963775\n"
     ]
    }
   ],
   "source": [
    "cus_weekday = trip2022.groupby(['member_casual', 'day_of_week']).agg(\n",
    "    number_of_rides=('ride_length', 'count'),\n",
    "    average_ride_length=('ride_length', 'mean')\n",
    ").reset_index().sort_values(by=['member_casual', 'day_of_week'], ascending=[True, False])\n",
    "print(cus_weekday)"
   ]
  },
  {
   "cell_type": "code",
   "execution_count": 36,
   "id": "a5326a00",
   "metadata": {
    "scrolled": true
   },
   "outputs": [
    {
     "data": {
      "image/png": "[encoded data removed]",
      "text/plain": [
       "<Figure size 576x432 with 1 Axes>"
      ]
     },
     "metadata": {
      "needs_background": "light"
     },
     "output_type": "display_data"
    }
   ],
   "source": [
    "plot_data = trip2022.groupby(['member_casual', 'day_of_week']).agg(\n",
    "    number_of_rides=('ride_length', 'count')\n",
    ").reset_index().sort_values(by=['member_casual', 'day_of_week'])\n",
    "\n",
    "sns.set_style('darkgrid')\n",
    "sns.set_palette('Set1')\n",
    "\n",
    "fig, ax = plt.subplots(figsize=(8, 6))\n",
    "\n",
    "sns.barplot(x='day_of_week', y='number_of_rides', hue='member_casual', data=plot_data, ax=ax)\n",
    "\n",
    "ax.set_title('Total trips by customer type Vs. Day of week')\n",
    "ax.set_ylabel('Number of rides')\n",
    "plt.xticks(range(0,7), ['Monday', 'Tuesday', 'Wednesday', 'Thursday', 'Friday', 'Saturday', 'Sunday'])\n",
    "plt.show()"
   ]
  },
  {
   "cell_type": "markdown",
   "id": "5823687d",
   "metadata": {},
   "source": [
    "It can be observed that on weekdays, the number of bike rides by members is higher than that of casual riders. On weekends, the number of member bike rides is almost equal to that of casual riders. It can be seen that members ride bikes regularly throughout the week, while casual riders only ride on weekends."
   ]
  },
  {
   "cell_type": "code",
   "execution_count": 37,
   "id": "47c54b0d",
   "metadata": {},
   "outputs": [
    {
     "data": {
      "image/png": "[encoded data removed]",
      "text/plain": [
       "<Figure size 720x360 with 1 Axes>"
      ]
     },
     "metadata": {
      "needs_background": "light"
     },
     "output_type": "display_data"
    }
   ],
   "source": [
    "# Histogram distribution\n",
    "# started_at\n",
    "trip2022[\"started_at\"].hist(figsize=(10,5), bins=20, color = \"blue\")\n",
    "plt.title(\"Histogram of Start_at Time\")\n",
    "plt.xlabel(\"Start_at Time\", fontsize=12)\n",
    "plt.ylabel(\"Frequency\", fontsize=12)\n",
    "\n",
    "# Add grid lines\n",
    "plt.grid(True)\n",
    "\n",
    "# Increase font size of tick labels\n",
    "plt.xticks(fontsize=10)\n",
    "plt.yticks(fontsize=10)\n",
    "\n",
    "plt.show()"
   ]
  },
  {
   "cell_type": "code",
   "execution_count": 38,
   "id": "029d6b5d",
   "metadata": {},
   "outputs": [
    {
     "data": {
      "image/png": "[encoded data removed]",
      "text/plain": [
       "<Figure size 720x360 with 1 Axes>"
      ]
     },
     "metadata": {
      "needs_background": "light"
     },
     "output_type": "display_data"
    }
   ],
   "source": [
    "trip2022[\"ended_at\"].hist(figsize=(10,5), bins=20, color=\"r\")\n",
    "plt.title(\"Histogram of Ended_at Time\")\n",
    "plt.xlabel(\"Ended_at Time\", fontsize=12)\n",
    "plt.ylabel(\"Frequency\", fontsize=12)\n",
    "\n",
    "# Add grid lines\n",
    "plt.grid(True)\n",
    "\n",
    "# Increase font size of tick labels\n",
    "plt.xticks(fontsize=10)\n",
    "plt.yticks(fontsize=10)\n",
    "\n",
    "plt.show()"
   ]
  },
  {
   "cell_type": "markdown",
   "id": "c4ec87b2",
   "metadata": {},
   "source": [
    "### Analyze start and end location"
   ]
  },
  {
   "cell_type": "code",
   "execution_count": null,
   "id": "5fe7cf83",
   "metadata": {},
   "outputs": [],
   "source": []
  },
  {
   "cell_type": "code",
   "execution_count": 39,
   "id": "4fca5496",
   "metadata": {
    "scrolled": false
   },
   "outputs": [
    {
     "data": {
      "text/html": [
       "<div>\n",
       "<style scoped>\n",
       "    .dataframe tbody tr th:only-of-type {\n",
       "        vertical-align: middle;\n",
       "    }\n",
       "\n",
       "    .dataframe tbody tr th {\n",
       "        vertical-align: top;\n",
       "    }\n",
       "\n",
       "    .dataframe thead th {\n",
       "        text-align: right;\n",
       "    }\n",
       "</style>\n",
       "<table border=\"1\" class=\"dataframe\">\n",
       "  <thead>\n",
       "    <tr style=\"text-align: right;\">\n",
       "      <th></th>\n",
       "      <th>start_station_name</th>\n",
       "      <th>count</th>\n",
       "    </tr>\n",
       "  </thead>\n",
       "  <tbody>\n",
       "    <tr>\n",
       "      <th>0</th>\n",
       "      <td>Streeter Dr &amp; Grand Ave</td>\n",
       "      <td>71262</td>\n",
       "    </tr>\n",
       "    <tr>\n",
       "      <th>1</th>\n",
       "      <td>DuSable Lake Shore Dr &amp; Monroe St</td>\n",
       "      <td>39244</td>\n",
       "    </tr>\n",
       "    <tr>\n",
       "      <th>2</th>\n",
       "      <td>DuSable Lake Shore Dr &amp; North Blvd</td>\n",
       "      <td>37691</td>\n",
       "    </tr>\n",
       "    <tr>\n",
       "      <th>3</th>\n",
       "      <td>Michigan Ave &amp; Oak St</td>\n",
       "      <td>37203</td>\n",
       "    </tr>\n",
       "    <tr>\n",
       "      <th>4</th>\n",
       "      <td>Wells St &amp; Concord Ln</td>\n",
       "      <td>34504</td>\n",
       "    </tr>\n",
       "  </tbody>\n",
       "</table>\n",
       "</div>"
      ],
      "text/plain": [
       "                   start_station_name  count\n",
       "0             Streeter Dr & Grand Ave  71262\n",
       "1   DuSable Lake Shore Dr & Monroe St  39244\n",
       "2  DuSable Lake Shore Dr & North Blvd  37691\n",
       "3               Michigan Ave & Oak St  37203\n",
       "4               Wells St & Concord Ln  34504"
      ]
     },
     "execution_count": 39,
     "metadata": {},
     "output_type": "execute_result"
    }
   ],
   "source": [
    "start_station = trip2022[['start_station_name']].value_counts().reset_index()\n",
    "start_station = start_station.rename(columns = {0:'count'})\n",
    "top_5_ss = start_station[start_station['count'] > 33000]\n",
    "top_5_ss"
   ]
  },
  {
   "cell_type": "code",
   "execution_count": 40,
   "id": "0435358a",
   "metadata": {},
   "outputs": [
    {
     "data": {
      "image/png": "[encoded data removed]",
      "text/plain": [
       "<Figure size 720x720 with 1 Axes>"
      ]
     },
     "metadata": {
      "needs_background": "light"
     },
     "output_type": "display_data"
    }
   ],
   "source": [
    "top_5_ss.plot.bar(rot = 0, figsize=(10,10), color = \"b\")\n",
    "plt.xticks(fontsize = 14, color = 'g')\n",
    "plt.yticks(fontsize = 14, color = 'r')\n",
    "plt.title('Top 5 most visited Start station ',fontsize = 14, color = 'r')\n",
    "plt.ylabel('Number of visited', fontsize = 14, color = 'b')\n",
    "plt.xlabel('Start station', fontsize = 14, color = 'b')\n",
    "plt.xticks(range(0,5), top_5_ss['start_station_name'])\n",
    "plt.xticks(rotation=20)\n",
    "plt.show()"
   ]
  },
  {
   "cell_type": "code",
   "execution_count": 41,
   "id": "3f2ba02b",
   "metadata": {},
   "outputs": [
    {
     "data": {
      "text/html": [
       "<div>\n",
       "<style scoped>\n",
       "    .dataframe tbody tr th:only-of-type {\n",
       "        vertical-align: middle;\n",
       "    }\n",
       "\n",
       "    .dataframe tbody tr th {\n",
       "        vertical-align: top;\n",
       "    }\n",
       "\n",
       "    .dataframe thead th {\n",
       "        text-align: right;\n",
       "    }\n",
       "</style>\n",
       "<table border=\"1\" class=\"dataframe\">\n",
       "  <thead>\n",
       "    <tr style=\"text-align: right;\">\n",
       "      <th></th>\n",
       "      <th>end_station_name</th>\n",
       "      <th>count</th>\n",
       "    </tr>\n",
       "  </thead>\n",
       "  <tbody>\n",
       "    <tr>\n",
       "      <th>0</th>\n",
       "      <td>Streeter Dr &amp; Grand Ave</td>\n",
       "      <td>72532</td>\n",
       "    </tr>\n",
       "    <tr>\n",
       "      <th>1</th>\n",
       "      <td>DuSable Lake Shore Dr &amp; North Blvd</td>\n",
       "      <td>40543</td>\n",
       "    </tr>\n",
       "    <tr>\n",
       "      <th>2</th>\n",
       "      <td>DuSable Lake Shore Dr &amp; Monroe St</td>\n",
       "      <td>38491</td>\n",
       "    </tr>\n",
       "    <tr>\n",
       "      <th>3</th>\n",
       "      <td>Michigan Ave &amp; Oak St</td>\n",
       "      <td>38273</td>\n",
       "    </tr>\n",
       "    <tr>\n",
       "      <th>4</th>\n",
       "      <td>Wells St &amp; Concord Ln</td>\n",
       "      <td>34686</td>\n",
       "    </tr>\n",
       "  </tbody>\n",
       "</table>\n",
       "</div>"
      ],
      "text/plain": [
       "                     end_station_name  count\n",
       "0             Streeter Dr & Grand Ave  72532\n",
       "1  DuSable Lake Shore Dr & North Blvd  40543\n",
       "2   DuSable Lake Shore Dr & Monroe St  38491\n",
       "3               Michigan Ave & Oak St  38273\n",
       "4               Wells St & Concord Ln  34686"
      ]
     },
     "execution_count": 41,
     "metadata": {},
     "output_type": "execute_result"
    }
   ],
   "source": [
    "end_station = trip2022[['end_station_name']].value_counts().reset_index()\n",
    "end_station = end_station.rename(columns = {0:'count'})\n",
    "top_5_es = end_station[end_station['count'] > 34000]\n",
    "top_5_es"
   ]
  },
  {
   "cell_type": "code",
   "execution_count": 42,
   "id": "8b2eabf6",
   "metadata": {},
   "outputs": [
    {
     "data": {
      "image/png": "[encoded data removed]",
      "text/plain": [
       "<Figure size 720x720 with 1 Axes>"
      ]
     },
     "metadata": {
      "needs_background": "light"
     },
     "output_type": "display_data"
    }
   ],
   "source": [
    "top_5_es.plot.bar(rot = 0, figsize=(10,10))\n",
    "plt.xticks(fontsize = 14, color = 'g')\n",
    "plt.yticks(fontsize = 14, color = 'r')\n",
    "plt.title('Top 5 most visited End station ',fontsize = 14, color = 'r')\n",
    "plt.ylabel('Number of visited', fontsize = 14, color = 'b')\n",
    "plt.xlabel('End station', fontsize = 14, color = 'b')\n",
    "plt.xticks(range(0,5), top_5_es['end_station_name'])\n",
    "plt.xticks(rotation=20)\n",
    "plt.show()"
   ]
  },
  {
   "cell_type": "code",
   "execution_count": 45,
   "id": "4d82d824",
   "metadata": {
    "scrolled": true
   },
   "outputs": [
    {
     "data": {
      "image/png": "[encoded data removed]",
      "text/plain": [
       "<Figure size 576x432 with 1 Axes>"
      ]
     },
     "metadata": {},
     "output_type": "display_data"
    }
   ],
   "source": [
    "plot_data1 = trip2022.groupby(['member_casual', 'month']).agg(\n",
    "    number_of_rides=('ride_length', 'count')\n",
    ").reset_index().sort_values(by=['member_casual', 'month'])\n",
    "\n",
    "sns.set_style('darkgrid')\n",
    "sns.set_palette('Set1')\n",
    "\n",
    "fig, ax = plt.subplots(figsize=(8, 6))\n",
    "\n",
    "sns.barplot(x='month', y='number_of_rides', hue='member_casual', data=plot_data1, ax=ax)\n",
    "\n",
    "ax.set_title('Total trips by customer type Vs. Month')\n",
    "ax.set_ylabel('Number of rides')\n",
    "plt.xticks(range(0,12), ['Jan', 'Feb', 'Mar', 'Arp', 'May', 'June', 'July','Aug','Sep','Oct','Nov','Dec'])\n",
    "plt.show()"
   ]
  },
  {
   "cell_type": "code",
   "execution_count": 46,
   "id": "e914fe03",
   "metadata": {},
   "outputs": [
    {
     "data": {
      "image/png": "[encoded data removed]",
      "text/plain": [
       "<Figure size 720x360 with 1 Axes>"
      ]
     },
     "metadata": {},
     "output_type": "display_data"
    }
   ],
   "source": [
    "avg_duration_by_type_month = trip2022.groupby(['member_casual', 'month']).agg(average_trip_duration=('ride_length', 'mean')).reset_index()\n",
    "\n",
    "plt.figure(figsize=(10, 5))\n",
    "sns.barplot(x='month', y='average_trip_duration', hue='member_casual', data=avg_duration_by_type_month, dodge=True)\n",
    "plt.title(\"Average trip duration by customer type Vs. Month\")\n",
    "plt.xticks(rotation=30)\n",
    "plt.xticks(range(0,12), ['Jan', 'Feb', 'Mar', 'Arp', 'May', 'June', 'July','Aug','Sep','Oct','Nov','Dec'])\n",
    "plt.show()"
   ]
  },
  {
   "cell_type": "markdown",
   "id": "e4707e94",
   "metadata": {},
   "source": [
    "# Act"
   ]
  },
  {
   "cell_type": "markdown",
   "id": "ac489be4",
   "metadata": {},
   "source": [
    "### Key takeaways"
   ]
  },
  {
   "cell_type": "markdown",
   "id": "c4c0be3e",
   "metadata": {},
   "source": [
    "The average trip duration for casual riders was almost twice as long as that of member riders, based on trip duration.\n",
    "\n",
    "Casual riders tended to use bikeshare services more often on weekends, while member riders used them more consistently throughout the week. Additionally, the average trip duration for casual riders was more than twice as long as that of member riders on any given day of the week.\n",
    "\n",
    "In the first half of the year, casual riders tended to ride longer than in the second half, while members had relatively consistent average trip durations from month to month.\n",
    "\n",
    "Finally, casual riders preferred docked bikes the most, while classic bikes were popular among members."
   ]
  },
  {
   "cell_type": "markdown",
   "id": "affabc63",
   "metadata": {},
   "source": [
    "### Recommendations"
   ]
  },
  {
   "cell_type": "markdown",
   "id": "ba315cb0",
   "metadata": {},
   "source": [
    "Based on these findings, we recommend offering attractive promotions for casual riders on weekdays to encourage more even usage of bikeshare services throughout the week. Additionally, offering discounted membership fees for renewals after the first year could encourage more casual riders to take up membership. Finally, offering discounted pricing during non-busy hours could encourage casual riders to use bikes more frequently and level out demand over the course of the day."
   ]
  },
  {
   "cell_type": "code",
   "execution_count": 44,
   "id": "827bfbfa",
   "metadata": {},
   "outputs": [],
   "source": [
    "trip2022['month'] = pd.DatetimeIndex(trip2022['started_at']).month"
   ]
  },
  {
   "cell_type": "code",
   "execution_count": 47,
   "id": "d29b5fe3",
   "metadata": {},
   "outputs": [
    {
     "data": {
      "text/plain": [
       "7     642603\n",
       "6     620275\n",
       "8     605250\n",
       "9     535072\n",
       "5     502472\n",
       "10    414215\n",
       "4     272513\n",
       "11    255746\n",
       "3     215942\n",
       "12    135379\n",
       "2      89164\n",
       "1      80115\n",
       "Name: month, dtype: int64"
      ]
     },
     "execution_count": 47,
     "metadata": {},
     "output_type": "execute_result"
    }
   ],
   "source": [
    "trip2022['month'].value_counts()"
   ]
  },
  {
   "cell_type": "code",
   "execution_count": null,
   "id": "dc7084ac",
   "metadata": {},
   "outputs": [],
   "source": []
  }
 ],
 "metadata": {
  "kernelspec": {
   "display_name": "Python 3 (ipykernel)",
   "language": "python",
   "name": "python3"
  },
  "language_info": {
   "codemirror_mode": {
    "name": "ipython",
    "version": 3
   },
   "file_extension": ".py",
   "mimetype": "text/x-python",
   "name": "python",
   "nbconvert_exporter": "python",
   "pygments_lexer": "ipython3",
   "version": "3.9.12"
  }
 },
 "nbformat": 4,
 "nbformat_minor": 5
}
